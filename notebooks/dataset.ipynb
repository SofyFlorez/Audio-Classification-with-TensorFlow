{
 "cells": [
  {
   "cell_type": "markdown",
   "id": "0df58d00",
   "metadata": {},
   "source": [
    "# Creation of datasets for the \"dog_bark\" and \"siren\" classes from the UrbanSound8K dataset\n",
    "\n",
    "This Jupyter notebook creates customized audio datasets for machine learning models by extracting samples from the UrbanSound8K dataset. Specifically, it filters the UrbanSound8K metadata to extract 1,500 audio samples for each of the \"dog_bark\" and \"siren\" classes. It then copies these audio samples into separate output directories to create specialized datasets that can be used to train audio classification models."
   ]
  },
  {
   "cell_type": "code",
   "execution_count": 1,
   "id": "5e380727",
   "metadata": {},
   "outputs": [],
   "source": [
    "import os\n",
    "import shutil\n",
    "import pandas as pd"
   ]
  },
  {
   "cell_type": "markdown",
   "id": "8b184ab5",
   "metadata": {},
   "source": [
    "### Load metadata and define directories\n",
    "\n",
    "This section loads the UrbanSound8K metadata file and defines the directories for the source UrbanSound8K dataset as well as the output directories where the new datasets will be created."
   ]
  },
  {
   "cell_type": "code",
   "execution_count": 2,
   "id": "0f8db60c",
   "metadata": {},
   "outputs": [],
   "source": [
    "# Path to the UrbanSound8k dataset\n",
    "data_dir = 'UrbanSound8K/audio'\n",
    "metadata_path = 'UrbanSound8K/metadata/UrbanSound8K.csv'"
   ]
  },
  {
   "cell_type": "code",
   "execution_count": 3,
   "id": "91bd3501",
   "metadata": {},
   "outputs": [],
   "source": [
    "# Output directories for the new datasets\n",
    "output_dir_dog_bark = \"dog_bark_dataset\"\n",
    "output_dir_siren = \"siren_dataset\""
   ]
  },
  {
   "cell_type": "code",
   "execution_count": 4,
   "id": "8a71c457",
   "metadata": {},
   "outputs": [],
   "source": [
    "# Create output directories if they don't exist\n",
    "os.makedirs(output_dir_dog_bark, exist_ok=True)\n",
    "os.makedirs(output_dir_siren, exist_ok=True)"
   ]
  },
  {
   "cell_type": "code",
   "execution_count": 5,
   "id": "e2321974",
   "metadata": {},
   "outputs": [],
   "source": [
    "# Load the UrbanSound8k metadata\n",
    "metadata = pd.read_csv(metadata_path)"
   ]
  },
  {
   "cell_type": "markdown",
   "id": "b1b17531",
   "metadata": {},
   "source": [
    "### Filter samples\n",
    "\n",
    "The metadata is then filtered to only keep samples belonging to the \"dog_bark\" and \"siren\" classes. This filters out 1,500 samples for each class to include in the specialized datasets."
   ]
  },
  {
   "cell_type": "code",
   "execution_count": 6,
   "id": "a80c018c",
   "metadata": {},
   "outputs": [],
   "source": [
    "# Filter samples for the \"dog_bark\" class\n",
    "dog_bark_samples = metadata[metadata[\"class\"] == \"dog_bark\"].head(1500)"
   ]
  },
  {
   "cell_type": "code",
   "execution_count": 7,
   "id": "33effe50",
   "metadata": {},
   "outputs": [],
   "source": [
    "# Filter samples for the \"siren\" class\n",
    "siren_samples = metadata[metadata[\"class\"] == \"siren\"].head(1500)"
   ]
  },
  {
   "cell_type": "markdown",
   "id": "4ac59b71",
   "metadata": {},
   "source": [
    "### Copy audio files\n",
    "\n",
    "Finally, a function is defined to copy over the audio files for each sample in the filtered metadata DataFrames. This copies the samples from the UrbanSound8K folders into the output directories, creating the finalized datasets for the \"dog_bark\" and \"siren\" classes."
   ]
  },
  {
   "cell_type": "code",
   "execution_count": 8,
   "id": "060efb6d",
   "metadata": {},
   "outputs": [
    {
     "name": "stdout",
     "output_type": "stream",
     "text": [
      "Datasets created successfully.\n"
     ]
    }
   ],
   "source": [
    "# Function to copy audio files to the specified directory\n",
    "def copy_audio_files(samples, output_dir):\n",
    "    \"\"\"\n",
    "        Copies audio files specified in the samples DataFrame to the given output directory.\n",
    "\n",
    "        Args:\n",
    "        - samples: DataFrame containing metadata of audio samples.\n",
    "        - output_dir: Directory to copy audio files.\n",
    "        \"\"\"\n",
    "    for index, row in samples.iterrows():\n",
    "        file_path = os.path.join(data_dir, f'fold{row[\"fold\"]}', row[\"slice_file_name\"])\n",
    "        shutil.copy(file_path, output_dir)\n",
    "\n",
    "\n",
    "# Copy audio files for the \"dog_bark\" class\n",
    "copy_audio_files(dog_bark_samples, output_dir_dog_bark)\n",
    "\n",
    "# Copy audio files for the \"siren\" class\n",
    "copy_audio_files(siren_samples, output_dir_siren)\n",
    "\n",
    "print(\"Datasets created successfully.\")"
   ]
  }
 ],
 "metadata": {
  "kernelspec": {
   "display_name": "Python 3 (ipykernel)",
   "language": "python",
   "name": "python3"
  },
  "language_info": {
   "codemirror_mode": {
    "name": "ipython",
    "version": 3
   },
   "file_extension": ".py",
   "mimetype": "text/x-python",
   "name": "python",
   "nbconvert_exporter": "python",
   "pygments_lexer": "ipython3",
   "version": "3.11.5"
  }
 },
 "nbformat": 4,
 "nbformat_minor": 5
}
