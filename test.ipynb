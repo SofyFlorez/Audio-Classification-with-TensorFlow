{
 "cells": [
  {
   "cell_type": "code",
   "execution_count": 1,
   "id": "70c1739f",
   "metadata": {},
   "outputs": [],
   "source": [
    "\"\"\"\n",
    "Test the accuracy of the TFLite model \n",
    "\n",
    "\"\"\"\n",
    "import os\n",
    "import numpy as np\n",
    "import tensorflow as tf\n",
    "import librosa\n",
    "from tensorflow.image import resize\n",
    "from tensorflow.keras.utils import to_categorical\n",
    "from sklearn.model_selection import train_test_split"
   ]
  },
  {
   "cell_type": "code",
   "execution_count": 2,
   "id": "02849f03",
   "metadata": {},
   "outputs": [],
   "source": [
    "# Set up data paths and hyperparameters\n",
    "data_dir = 'data'\n",
    "classes = ['dog_bark', 'siren']\n",
    "target_shape = (128, 128)"
   ]
  },
  {
   "cell_type": "code",
   "execution_count": 3,
   "id": "0eaa3aaf",
   "metadata": {},
   "outputs": [],
   "source": [
    "# Function to load audio data from disk and preprocess into mel spectrograms\n",
    "def load_and_preprocess_data(data_dir, classes, target_shape):\n",
    "    # Initialize empty lists to hold data and labels\n",
    "    data = []\n",
    "    labels = []\n",
    "\n",
    "    # Loop through class names\n",
    "    for i, class_name in enumerate(classes):\n",
    "        class_dir = os.path.join(data_dir, class_name)\n",
    "        for filename in os.listdir(class_dir):\n",
    "            if filename.endswith('.wav'):\n",
    "                # Load audio data and sample rate\n",
    "                file_path = os.path.join(class_dir, filename)\n",
    "                audio_data, sample_rate = librosa.load(file_path, sr=None)\n",
    "\n",
    "                # Extract mel spectrogram\n",
    "                mel_spectrogram = librosa.feature.melspectrogram(y=audio_data, sr=sample_rate)\n",
    "                mel_spectrogram = mel_spectrogram.squeeze()\n",
    "\n",
    "                # Resize spectrogram\n",
    "                mel_spectrogram = resize(np.expand_dims(mel_spectrogram, axis=-1), target_shape)\n",
    "\n",
    "                # Append data and labels\n",
    "                data.append(mel_spectrogram)\n",
    "                labels.append(i)\n",
    "\n",
    "    return np.array(data), np.array(labels)"
   ]
  },
  {
   "cell_type": "code",
   "execution_count": 5,
   "id": "6127dcc4",
   "metadata": {},
   "outputs": [],
   "source": [
    "# Load and preprocess data\n",
    "data, labels = load_and_preprocess_data(data_dir, classes, target_shape)"
   ]
  },
  {
   "cell_type": "code",
   "execution_count": 6,
   "id": "befeb266",
   "metadata": {},
   "outputs": [],
   "source": [
    "# One-hot encode labels\n",
    "labels = to_categorical(labels, num_classes=len(classes))"
   ]
  },
  {
   "cell_type": "code",
   "execution_count": 7,
   "id": "ddc5ea30",
   "metadata": {},
   "outputs": [],
   "source": [
    "# Split data into train and test sets\n",
    "X_train, X_test, y_train, y_test = train_test_split(data, labels, test_size=0.2, random_state=42)"
   ]
  },
  {
   "cell_type": "code",
   "execution_count": 8,
   "id": "7de3331a",
   "metadata": {},
   "outputs": [],
   "source": [
    "# Load TFLite model\n",
    "# interpreter = tf.lite.Interpreter(model_path=\"model.tflite\")\n",
    "interpreter = tf.lite.Interpreter(model_path=\"quant_model.tflite\")"
   ]
  },
  {
   "cell_type": "code",
   "execution_count": 9,
   "id": "55c3c2cd",
   "metadata": {},
   "outputs": [
    {
     "name": "stderr",
     "output_type": "stream",
     "text": [
      "INFO: Created TensorFlow Lite XNNPACK delegate for CPU.\n"
     ]
    }
   ],
   "source": [
    "# Allocate tensors\n",
    "interpreter.allocate_tensors()"
   ]
  },
  {
   "cell_type": "code",
   "execution_count": 10,
   "id": "4538c89e",
   "metadata": {},
   "outputs": [],
   "source": [
    "# Get input and output details\n",
    "input_details = interpreter.get_input_details()\n",
    "output_details = interpreter.get_output_details()"
   ]
  },
  {
   "cell_type": "code",
   "execution_count": 11,
   "id": "fa4f0dd9",
   "metadata": {},
   "outputs": [],
   "source": [
    "# Function to calculate accuracy\n",
    "def compute_accuracy(output, y):\n",
    "    preds = np.argmax(output, axis=1)\n",
    "    return np.sum(preds == np.argmax(y, axis=1)) / len(y)"
   ]
  },
  {
   "cell_type": "code",
   "execution_count": 13,
   "id": "8f938bfb",
   "metadata": {},
   "outputs": [
    {
     "name": "stdout",
     "output_type": "stream",
     "text": [
      "Test Accuracy: 0.9093264248704663\n"
     ]
    }
   ],
   "source": [
    "# Test model\n",
    "batch_size = 32\n",
    "num_samples = X_test.shape[0]\n",
    "test_accuracy = 0\n",
    "\n",
    "for i in range(0, num_samples, batch_size):\n",
    "    test_data = X_test[i:i + batch_size]\n",
    "\n",
    "    for j in range(len(test_data)):\n",
    "        current_sample = test_data[j]\n",
    "        current_sample = np.expand_dims(current_sample, axis=0)  # Add batch dimension\n",
    "        interpreter.set_tensor(input_details[0]['index'], current_sample)\n",
    "        interpreter.invoke()\n",
    "\n",
    "        output = interpreter.get_tensor(output_details[0]['index'])\n",
    "\n",
    "        test_accuracy += compute_accuracy(output, y_test[i + j:i + j + 1])\n",
    "\n",
    "test_accuracy /= num_samples\n",
    "\n",
    "print(\"Test Accuracy:\", test_accuracy)"
   ]
  }
 ],
 "metadata": {
  "kernelspec": {
   "display_name": "Python 3 (ipykernel)",
   "language": "python",
   "name": "python3"
  },
  "language_info": {
   "codemirror_mode": {
    "name": "ipython",
    "version": 3
   },
   "file_extension": ".py",
   "mimetype": "text/x-python",
   "name": "python",
   "nbconvert_exporter": "python",
   "pygments_lexer": "ipython3",
   "version": "3.11.5"
  }
 },
 "nbformat": 4,
 "nbformat_minor": 5
}
